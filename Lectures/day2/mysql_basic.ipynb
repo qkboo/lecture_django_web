{
 "cells": [
  {
   "cell_type": "markdown",
   "metadata": {},
   "source": [
    "# MySQL basic\n",
    "\n",
    "\n",
    "```\n",
    "pip install pymysql\n",
    "```\n",
    "\n",
    "#### sha 에러\n",
    "\n",
    "```\n",
    "RuntimeError: 'cryptography' package is required for sha256_password or caching_sha2_password auth methods\n",
    "```\n",
    "\n",
    " - https://stackoverflow.com/questions/54477829/cryptography-is-required-for-sha256-password-or-caching-sha2-password\n",
    "\n",
    "다음 패키지 설치후 재시작.\n",
    "\n",
    "```\n",
    "pip install cryptography\n",
    "pip install PyMySQL[rsa]\n",
    "```\n",
    "\n",
    "\n",
    "\n",
    "\n"
   ]
  },
  {
   "cell_type": "markdown",
   "metadata": {},
   "source": [
    "## mysql 샘플 데이터베이스\n",
    "\n",
    "강의중 실습한 userspace 스키마의 book, customer, orders 테이블 데이터를 사용.\n",
    " - bookstore_demo.sql\n",
    " "
   ]
  },
  {
   "cell_type": "code",
   "execution_count": 26,
   "metadata": {},
   "outputs": [
    {
     "data": {
      "text/plain": [
       "11"
      ]
     },
     "execution_count": 26,
     "metadata": {},
     "output_type": "execute_result"
    }
   ],
   "source": [
    "import pymysql\n",
    "\n",
    "# MySQL Connection 연결\n",
    "\n",
    "\n",
    "# Connection 으로부터 Cursor 생성\n",
    "\n",
    "\n",
    "# SQL문 실행\n",
    "\n",
    "\n"
   ]
  },
  {
   "cell_type": "code",
   "execution_count": 27,
   "metadata": {},
   "outputs": [
    {
     "name": "stdout",
     "output_type": "stream",
     "text": [
      "((1, '철락의 역사', '정론사', 7000), (2, '모델링 시작하기', '한비사', 13000), (3, 'SQL 이해', '새미디어', 22000), (4, '텐서플로우 시작', '새미디어', 35000), (5, '인공지능 개론', '정론사', 8000), (6, '파이썬 고급', '정론사', 6000), (7, '객체지향 Java', '튜링사', 20000), (8, 'C++ 중급', '튜링사', 13000), (9, 'Secure 코딩', '정보사', 7500), (10, 'Machine learning', 'Pearson', 13000), (14, '스포츠 의학', '한솔의학서적', None))\n"
     ]
    }
   ],
   "source": [
    " # 데이타 Fetch\n",
    "\n"
   ]
  },
  {
   "cell_type": "code",
   "execution_count": 28,
   "metadata": {},
   "outputs": [
    {
     "data": {
      "text/plain": [
       "((1, '박지성', '영국 맨체스타', '000-5000-0001'),\n",
       " (2, '김연아', '대한민국 서울', '000-6000-0001'),\n",
       " (3, '장미란', '대한민국 강원도', '000-7000-0001'),\n",
       " (4, '추신수', '미국 텍사스', '000-8000-0001'),\n",
       " (5, '박세리', '대한민국 부산', None))"
      ]
     },
     "execution_count": 28,
     "metadata": {},
     "output_type": "execute_result"
    }
   ],
   "source": [
    "# Connection 으로부터 Cursor 생성\n",
    "\n",
    "# 고객 정보\n",
    "\n",
    "# SQL문 실행\n",
    "\n",
    " # 데이타 Fetch\n",
    "\n",
    "    rows"
   ]
  },
  {
   "cell_type": "code",
   "execution_count": 4,
   "metadata": {},
   "outputs": [],
   "source": [
    "# Connection 닫기\n",
    "\n"
   ]
  },
  {
   "cell_type": "markdown",
   "metadata": {},
   "source": [
    "### Parameter Placeholder\n",
    "\n",
    "동적 SQL문을 구성하기 위해서 파라미터값이 들어가는 위치에 Parameter Placeholder인 %s (MySql의 경우)를 넣고, execute() 메서드의 두번째 파라미터에 실제 파라미터값들의 Tuple을 넣어 주면 된다.\n",
    "\n",
    "Parameter Placeholder에서는 문자열이건 숫자이건 모두 %s 를 사용하며, 문자열이라도 %s를 인용부호로 둘러싸지 않는다. 또한 한가지 주의할 점은 Placeholder는 컬럼값을 대치할 때만 사용될 수 있다. 즉 테이블이나 기타 문장에 Placeholder 를 사용할 수 없다."
   ]
  },
  {
   "cell_type": "code",
   "execution_count": 21,
   "metadata": {},
   "outputs": [],
   "source": [
    "# MySQL Connection 연결\n",
    "\n",
    " \n",
    "# Connection 으로부터 Dictoionary Cursor 생성\n",
    " \n",
    "# book 도서번호가 1~10 사이 : 비교식\n",
    "\n",
    "# 데이타 Fetch\n",
    "\n"
   ]
  },
  {
   "cell_type": "code",
   "execution_count": 22,
   "metadata": {},
   "outputs": [
    {
     "data": {
      "text/plain": [
       "((1, '철락의 역사'),\n",
       " (2, '모델링 시작하기'),\n",
       " (3, 'SQL 이해'),\n",
       " (4, '텐서플로우 시작'),\n",
       " (5, '인공지능 개론'),\n",
       " (6, '파이썬 고급'),\n",
       " (7, '객체지향 Java'),\n",
       " (8, 'C++ 중급'),\n",
       " (9, 'Secure 코딩'),\n",
       " (10, 'Machine learning'))"
      ]
     },
     "execution_count": 22,
     "metadata": {},
     "output_type": "execute_result"
    }
   ],
   "source": [
    "rows # tuples"
   ]
  },
  {
   "cell_type": "code",
   "execution_count": 23,
   "metadata": {},
   "outputs": [
    {
     "name": "stdout",
     "output_type": "stream",
     "text": [
      "(1, '철락의 역사')\n",
      "(2, '모델링 시작하기')\n",
      "(3, 'SQL 이해')\n",
      "(4, '텐서플로우 시작')\n",
      "(5, '인공지능 개론')\n",
      "(6, '파이썬 고급')\n",
      "(7, '객체지향 Java')\n",
      "(8, 'C++ 중급')\n",
      "(9, 'Secure 코딩')\n",
      "(10, 'Machine learning')\n"
     ]
    }
   ],
   "source": [
    "# row 탐색\n",
    "\n",
    "\n",
    "# Connection 닫기\n"
   ]
  },
  {
   "cell_type": "markdown",
   "metadata": {},
   "source": [
    "#### Dictionary 커서\n",
    "\n",
    "cursor() 메서드는 디폴트인 Array based cursor 를 사용한다. 디폴트 Array based cursor는 Row의 결과값을 배열로 (PyMyMsql에서 정확히는 튜플) 반환한다. Row 결과를 Dictionary 형태로 리턴하도록 하는 것이 Dictionary based cursor 이고, cursor 생성시 DictCursor 옵션 사용한다.\n",
    "\n",
    "```python\n",
    "curs = conn.cursor(pymysql.cursors.DictCursor)\n",
    "```\n"
   ]
  },
  {
   "cell_type": "code",
   "execution_count": 24,
   "metadata": {},
   "outputs": [
    {
     "data": {
      "text/plain": [
       "[{'bookid': 1, 'bookname': '철락의 역사'},\n",
       " {'bookid': 2, 'bookname': '모델링 시작하기'},\n",
       " {'bookid': 3, 'bookname': 'SQL 이해'},\n",
       " {'bookid': 4, 'bookname': '텐서플로우 시작'},\n",
       " {'bookid': 5, 'bookname': '인공지능 개론'},\n",
       " {'bookid': 6, 'bookname': '파이썬 고급'},\n",
       " {'bookid': 7, 'bookname': '객체지향 Java'},\n",
       " {'bookid': 8, 'bookname': 'C++ 중급'},\n",
       " {'bookid': 9, 'bookname': 'Secure 코딩'},\n",
       " {'bookid': 10, 'bookname': 'Machine learning'}]"
      ]
     },
     "execution_count": 24,
     "metadata": {},
     "output_type": "execute_result"
    }
   ],
   "source": [
    "# MySQL Connection 연결\n",
    "\n",
    "\n",
    "# Connection 으로부터 Dictoionary Cursor 생성\n",
    "\n",
    "\n",
    "\n",
    "# book 도서번호가 1~10 사이 : 비교식\n",
    "sql = \"SELECT bookid, bookname FROM Book WHERE bookid >= %s and bookid <= %s\"\n",
    "\n",
    "# 데이타 Fetch\n",
    "\n"
   ]
  },
  {
   "cell_type": "code",
   "execution_count": 18,
   "metadata": {},
   "outputs": [
    {
     "name": "stdout",
     "output_type": "stream",
     "text": [
      "{'bookid': 1, 'bookname': '철락의 역사'}\n",
      "1 철락의 역사\n",
      "{'bookid': 2, 'bookname': '모델링 시작하기'}\n",
      "2 모델링 시작하기\n",
      "{'bookid': 3, 'bookname': 'SQL 이해'}\n",
      "3 SQL 이해\n",
      "{'bookid': 4, 'bookname': '텐서플로우 시작'}\n",
      "4 텐서플로우 시작\n",
      "{'bookid': 5, 'bookname': '인공지능 개론'}\n",
      "5 인공지능 개론\n",
      "{'bookid': 6, 'bookname': '파이썬 고급'}\n",
      "6 파이썬 고급\n",
      "{'bookid': 7, 'bookname': '객체지향 Java'}\n",
      "7 객체지향 Java\n",
      "{'bookid': 8, 'bookname': 'C++ 중급'}\n",
      "8 C++ 중급\n",
      "{'bookid': 9, 'bookname': 'Secure 코딩'}\n",
      "9 Secure 코딩\n",
      "{'bookid': 10, 'bookname': 'Machine learning'}\n",
      "10 Machine learning\n"
     ]
    }
   ],
   "source": [
    "# 전체 행 출력:bookid, bookname\n",
    "\n",
    "\n",
    "# Connection 닫기\n",
    "\n"
   ]
  },
  {
   "cell_type": "markdown",
   "metadata": {
    "jupyter": {
     "source_hidden": true
    }
   },
   "source": [
    "만약 Python 문자열에서 사용하는 기본 String Interpolation을 사용하면 데이타에 특수 문자가 있는 경우 SQL문 문법 오류를 발생시킬 수 있다. 예를 들어, 아래는 기본 String Interpolation을 사용한 예인데, 변수 data 안에 단일 인용부호가 있는 경우 SQL Syntax 에러를 유발시키게 된다. 또한 이러한 String Interpolation 혹은 문자열 결합(Concatenation)을 통해 동적 SQL 문을 만드는 방법은 SQL Injection 공격에 쉽게 노출되는 문제점이 있다.\n",
    "\n",
    "```python\n",
    "# 잘못된 표현\n",
    "data = '서\\'울'\n",
    "sql = \"select * from customer where category=%s and region=%s\" % (1, data)\n",
    "curs.execute(sql)\n",
    "```"
   ]
  },
  {
   "cell_type": "markdown",
   "metadata": {},
   "source": [
    "## DML"
   ]
  },
  {
   "cell_type": "markdown",
   "metadata": {},
   "source": [
    "#### insert\n",
    "\n",
    "INSERT문에 사용하는 각 컬럼값들은 직접 값을 지정(Hard code)하거나 Parameter Placeholder를 사용할 수 있다.\n",
    "\n",
    "아래 예제는 두 개의 데이타를 INSERT 하고 Commit 하는 예이다. 여기서 한가지 주의할 점은 데이타 INSERT만 실행하고 Commit하지 않으면, 테이블의 데이타는 변경되지 않는다는 점이다."
   ]
  },
  {
   "cell_type": "code",
   "execution_count": null,
   "metadata": {},
   "outputs": [],
   "source": [
    "# MySQL Connection 연결\n",
    "conn = pymysql.connect(host='localhost', user='user1', password=')123456789',\n",
    "                       db='userspace', charset='utf8')\n",
    "\n",
    "# Connection 으로부터 Cursor 생성\n",
    "curs = conn.cursor()\n",
    "\n",
    "# customer에 이름, 주소, 전화번호 입력\n",
    "sql = \"\"\"insert into customer(name,address,phone)\n",
    "         values (%s, %s, %s)\"\"\"\n",
    "\n",
    "# ('김철수', '서울시 도봉구', '203-4943-1234')\n",
    "\n",
    "# ('빙그레', '대구시 도봉구', '111-4943-1234')\n",
    "\n",
    "\n",
    "# 커밋과 클로즈"
   ]
  },
  {
   "cell_type": "markdown",
   "metadata": {},
   "source": [
    "execute() 메서드는 하나의 Row (하나의 Tuple 데이타)를 치환하여 실행하는 반면, executemany() 메소드는 복수개의 Tuple 데이타 (즉, Tuple of Tuples)를 하나의 DML 문에 적용하게 된다. 아래 예제에서 executemany()는 3개의 INSERT 문을 수행하는 것과 동일한 효과를 갖는다."
   ]
  },
  {
   "cell_type": "code",
   "execution_count": null,
   "metadata": {},
   "outputs": [],
   "source": [
    "data = (\n",
    "   ('김수철', '충청남도 계룡시', '203-4943-1234'),\n",
    "   ('마동서', '강원도 원주시', '124-1234=2343')\n",
    ")\n",
    "sql = \"\"\"insert into customer(name,address,phone)\n",
    "         values (%s, %s, %s)\"\"\"\n",
    "curs.executemany(sql, data)\n",
    "conn.commit()"
   ]
  },
  {
   "cell_type": "markdown",
   "metadata": {},
   "source": [
    "### update, delete\n",
    "\n",
    "\n",
    "기존의 데이타를 수정하기 위해 UPDATE 문을 사용하고, 삭제하기 위해서 DELETE 문을 사용한다. UPDATE, DELETE 문에 사용하는 각 컬럼값들은 직접 값을 지정(Hard code)하거나 Parameter Placeholder를 사용할 수 있다."
   ]
  },
  {
   "cell_type": "code",
   "execution_count": null,
   "metadata": {},
   "outputs": [],
   "source": [
    "# MySQL Connection 연결\n",
    "\n",
    "\n",
    "# Connection 으로부터 Cursor 생성\n",
    "\n",
    "#  이름이 김철수인 사람 주소 -> '서울특별시 도봉구'\n",
    "\n",
    "\n",
    "# 커밋과 클로즈\n",
    "\n"
   ]
  },
  {
   "cell_type": "code",
   "execution_count": null,
   "metadata": {},
   "outputs": [],
   "source": [
    "# Connection 으로부터 Cursor 생성\n",
    "\n",
    "\n",
    "# id=6인 사람 삭제\n",
    "\n",
    "\n",
    "# 커밋과 클로즈\n"
   ]
  },
  {
   "cell_type": "markdown",
   "metadata": {},
   "source": [
    "### try ... with\n",
    "\n",
    "QL Connection을 열고 프로그램 중간에서 에러가 발생하면, Connection은 그대로 열려 있는 상태로 있을 수 있다. 이렇게 오픈되어 있는 Connection이 증가하면, 나중에 새로운 Connection을 오픈할 수 없게 되는데, 이를 Connection Leak 이라 부른다.\n",
    "\n",
    " SQL 객체들을 다룰 때 try...finally 나 with 문을 적절히 사용하여 리소스를 해제해 주는 것이 좋다."
   ]
  },
  {
   "cell_type": "code",
   "execution_count": 25,
   "metadata": {},
   "outputs": [
    {
     "name": "stdout",
     "output_type": "stream",
     "text": [
      "(1, '철락의 역사', '정론사', 7000)\n",
      "(2, '모델링 시작하기', '한비사', 13000)\n",
      "(3, 'SQL 이해', '새미디어', 22000)\n",
      "(4, '텐서플로우 시작', '새미디어', 35000)\n",
      "(5, '인공지능 개론', '정론사', 8000)\n",
      "(6, '파이썬 고급', '정론사', 6000)\n",
      "(7, '객체지향 Java', '튜링사', 20000)\n",
      "(8, 'C++ 중급', '튜링사', 13000)\n",
      "(9, 'Secure 코딩', '정보사', 7500)\n",
      "(10, 'Machine learning', 'Pearson', 13000)\n",
      "(14, '스포츠 의학', '한솔의학서적', None)\n"
     ]
    }
   ],
   "source": [
    "# MySQL Connection 연결\n",
    "\n",
    "\n",
    "try:\n",
    "    # with 구문\n",
    "    # INSERT: book에 (14, '스포츠 의학', '한솔의학서적') 추가\n",
    "\n",
    "    \n",
    "    # 커밋\n",
    "    conn.commit()\n",
    " \n",
    "\n",
    "    # 입력 결과 확인 with 로 select\n",
    "\n",
    "    \n",
    "    \n",
    "finally:\n",
    "    # 클로즈\n",
    "\n",
    "    \n",
    "    "
   ]
  }
 ],
 "metadata": {
  "kernelspec": {
   "display_name": "Python 3",
   "language": "python",
   "name": "python3"
  },
  "language_info": {
   "codemirror_mode": {
    "name": "ipython",
    "version": 3
   },
   "file_extension": ".py",
   "mimetype": "text/x-python",
   "name": "python",
   "nbconvert_exporter": "python",
   "pygments_lexer": "ipython3",
   "version": "3.6.12"
  }
 },
 "nbformat": 4,
 "nbformat_minor": 4
}
